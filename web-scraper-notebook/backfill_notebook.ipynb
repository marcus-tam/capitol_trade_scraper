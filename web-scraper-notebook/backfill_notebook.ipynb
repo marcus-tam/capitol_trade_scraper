{
 "cells": [
  {
   "metadata": {
    "ExecuteTime": {
     "end_time": "2025-01-19T05:48:04.632037Z",
     "start_time": "2025-01-19T05:48:04.629783Z"
    }
   },
   "cell_type": "code",
   "source": [
    "### Please READ ###\n",
    "\n",
    "# This notebook is meant to be used to test if the reading pickle function works as well as inserting raw data into the database. This is not meant for production. Please execute `python backfill_db.py` as that is the intended pipeline."
   ],
   "id": "f69c265f5563ab60",
   "outputs": [],
   "execution_count": 35
  },
  {
   "cell_type": "code",
   "id": "initial_id",
   "metadata": {
    "collapsed": true,
    "ExecuteTime": {
     "end_time": "2025-02-10T23:53:40.804226Z",
     "start_time": "2025-02-10T23:53:40.477045Z"
    }
   },
   "source": [
    "import pandas as pd\n",
    "import os\n",
    "import psycopg2"
   ],
   "outputs": [],
   "execution_count": 1
  },
  {
   "metadata": {
    "ExecuteTime": {
     "end_time": "2025-02-10T23:56:42.003199Z",
     "start_time": "2025-02-10T23:56:41.911530Z"
    }
   },
   "cell_type": "code",
   "source": [
    "cleaned_trades_df = pd.read_csv(\"data-1738532533124.csv\")\n",
    "\n",
    "# Load PostgreSQL connection details from docker-compose.yml environment variables\n",
    "postgres_user = os.getenv('POSTGRES_USER', 'myuser')\n",
    "postgres_password = os.getenv('POSTGRES_PASSWORD', 'mypassword')\n",
    "postgres_host = os.getenv('POSTGRES_HOST', 'localhost')\n",
    "postgres_port = os.getenv('POSTGRES_PORT', '5432')\n",
    "postgres_db = os.getenv('POSTGRES_DB', 'mydb')\n"
   ],
   "id": "4e13a9e4c283472b",
   "outputs": [],
   "execution_count": 4
  },
  {
   "metadata": {
    "ExecuteTime": {
     "end_time": "2025-02-10T23:56:42.542516Z",
     "start_time": "2025-02-10T23:56:42.535559Z"
    }
   },
   "cell_type": "code",
   "source": "cleaned_trades_df.head()",
   "id": "2f9f374ea682e8d2",
   "outputs": [
    {
     "data": {
      "text/plain": [
       "   id        politician              party    traded_company_name  \\\n",
       "0   1        Rick Allen  RepublicanHouseGA            ROLLINS Inc   \n",
       "1   2        Rick Allen  RepublicanHouseGA       US TREASURY NOTE   \n",
       "2   3        Rick Allen  RepublicanHouseGA      US TREASURY BILLS   \n",
       "3   4        Rick Allen  RepublicanHouseGA       US TREASURY NOTE   \n",
       "4   5  Jonathan Jackson    DemocratHouseIL  General Dynamics Corp   \n",
       "\n",
       "  traded_company_ticker trade_filed_date  trade_owner trade_type trade_size  \\\n",
       "0                ROL:US       2024-12-14       Spouse        BUY    15K–50K   \n",
       "1                   NaN       2024-12-05       Spouse        BUY  100K–250K   \n",
       "2                   NaN       2024-12-05  Undisclosed        BUY    15K–50K   \n",
       "3                   NaN       2024-12-05  Undisclosed        BUY   50K–100K   \n",
       "4                 GD:US       2024-12-18        Joint       SELL    15K–50K   \n",
       "\n",
       "   stock_price   published_datetime      traded_datetime  \\\n",
       "0        48.77  2025-01-17 00:00:00  2024-12-11 00:00:00   \n",
       "1          NaN  2025-01-17 00:00:00  2024-12-02 00:00:00   \n",
       "2          NaN  2025-01-17 00:00:00  2024-12-02 00:00:00   \n",
       "3          NaN  2025-01-17 00:00:00  2024-12-02 00:00:00   \n",
       "4       266.07  2025-01-17 00:00:00  2024-12-15 00:00:00   \n",
       "\n",
       "                                            trade_id  \n",
       "0  Rick Allen_RepublicanHouseGA_ROLLINS Inc_ROL:U...  \n",
       "1  Rick Allen_RepublicanHouseGA_US TREASURY NOTE_...  \n",
       "2  Rick Allen_RepublicanHouseGA_US TREASURY BILLS...  \n",
       "3  Rick Allen_RepublicanHouseGA_US TREASURY NOTE_...  \n",
       "4  Jonathan Jackson_DemocratHouseIL_General Dynam...  "
      ],
      "text/html": [
       "<div>\n",
       "<style scoped>\n",
       "    .dataframe tbody tr th:only-of-type {\n",
       "        vertical-align: middle;\n",
       "    }\n",
       "\n",
       "    .dataframe tbody tr th {\n",
       "        vertical-align: top;\n",
       "    }\n",
       "\n",
       "    .dataframe thead th {\n",
       "        text-align: right;\n",
       "    }\n",
       "</style>\n",
       "<table border=\"1\" class=\"dataframe\">\n",
       "  <thead>\n",
       "    <tr style=\"text-align: right;\">\n",
       "      <th></th>\n",
       "      <th>id</th>\n",
       "      <th>politician</th>\n",
       "      <th>party</th>\n",
       "      <th>traded_company_name</th>\n",
       "      <th>traded_company_ticker</th>\n",
       "      <th>trade_filed_date</th>\n",
       "      <th>trade_owner</th>\n",
       "      <th>trade_type</th>\n",
       "      <th>trade_size</th>\n",
       "      <th>stock_price</th>\n",
       "      <th>published_datetime</th>\n",
       "      <th>traded_datetime</th>\n",
       "      <th>trade_id</th>\n",
       "    </tr>\n",
       "  </thead>\n",
       "  <tbody>\n",
       "    <tr>\n",
       "      <th>0</th>\n",
       "      <td>1</td>\n",
       "      <td>Rick Allen</td>\n",
       "      <td>RepublicanHouseGA</td>\n",
       "      <td>ROLLINS Inc</td>\n",
       "      <td>ROL:US</td>\n",
       "      <td>2024-12-14</td>\n",
       "      <td>Spouse</td>\n",
       "      <td>BUY</td>\n",
       "      <td>15K–50K</td>\n",
       "      <td>48.77</td>\n",
       "      <td>2025-01-17 00:00:00</td>\n",
       "      <td>2024-12-11 00:00:00</td>\n",
       "      <td>Rick Allen_RepublicanHouseGA_ROLLINS Inc_ROL:U...</td>\n",
       "    </tr>\n",
       "    <tr>\n",
       "      <th>1</th>\n",
       "      <td>2</td>\n",
       "      <td>Rick Allen</td>\n",
       "      <td>RepublicanHouseGA</td>\n",
       "      <td>US TREASURY NOTE</td>\n",
       "      <td>NaN</td>\n",
       "      <td>2024-12-05</td>\n",
       "      <td>Spouse</td>\n",
       "      <td>BUY</td>\n",
       "      <td>100K–250K</td>\n",
       "      <td>NaN</td>\n",
       "      <td>2025-01-17 00:00:00</td>\n",
       "      <td>2024-12-02 00:00:00</td>\n",
       "      <td>Rick Allen_RepublicanHouseGA_US TREASURY NOTE_...</td>\n",
       "    </tr>\n",
       "    <tr>\n",
       "      <th>2</th>\n",
       "      <td>3</td>\n",
       "      <td>Rick Allen</td>\n",
       "      <td>RepublicanHouseGA</td>\n",
       "      <td>US TREASURY BILLS</td>\n",
       "      <td>NaN</td>\n",
       "      <td>2024-12-05</td>\n",
       "      <td>Undisclosed</td>\n",
       "      <td>BUY</td>\n",
       "      <td>15K–50K</td>\n",
       "      <td>NaN</td>\n",
       "      <td>2025-01-17 00:00:00</td>\n",
       "      <td>2024-12-02 00:00:00</td>\n",
       "      <td>Rick Allen_RepublicanHouseGA_US TREASURY BILLS...</td>\n",
       "    </tr>\n",
       "    <tr>\n",
       "      <th>3</th>\n",
       "      <td>4</td>\n",
       "      <td>Rick Allen</td>\n",
       "      <td>RepublicanHouseGA</td>\n",
       "      <td>US TREASURY NOTE</td>\n",
       "      <td>NaN</td>\n",
       "      <td>2024-12-05</td>\n",
       "      <td>Undisclosed</td>\n",
       "      <td>BUY</td>\n",
       "      <td>50K–100K</td>\n",
       "      <td>NaN</td>\n",
       "      <td>2025-01-17 00:00:00</td>\n",
       "      <td>2024-12-02 00:00:00</td>\n",
       "      <td>Rick Allen_RepublicanHouseGA_US TREASURY NOTE_...</td>\n",
       "    </tr>\n",
       "    <tr>\n",
       "      <th>4</th>\n",
       "      <td>5</td>\n",
       "      <td>Jonathan Jackson</td>\n",
       "      <td>DemocratHouseIL</td>\n",
       "      <td>General Dynamics Corp</td>\n",
       "      <td>GD:US</td>\n",
       "      <td>2024-12-18</td>\n",
       "      <td>Joint</td>\n",
       "      <td>SELL</td>\n",
       "      <td>15K–50K</td>\n",
       "      <td>266.07</td>\n",
       "      <td>2025-01-17 00:00:00</td>\n",
       "      <td>2024-12-15 00:00:00</td>\n",
       "      <td>Jonathan Jackson_DemocratHouseIL_General Dynam...</td>\n",
       "    </tr>\n",
       "  </tbody>\n",
       "</table>\n",
       "</div>"
      ]
     },
     "execution_count": 5,
     "metadata": {},
     "output_type": "execute_result"
    }
   ],
   "execution_count": 5
  },
  {
   "metadata": {
    "ExecuteTime": {
     "end_time": "2025-02-10T23:56:46.023712Z",
     "start_time": "2025-02-10T23:56:44.596830Z"
    }
   },
   "cell_type": "code",
   "source": [
    "from sqlalchemy import create_engine\n",
    "\n",
    "engine = create_engine(f\"postgresql://{postgres_user}:{postgres_password}@{postgres_host}:{postgres_port}/{postgres_db}\")\n",
    "\n",
    "cleaned_trades_df.to_sql('capitol_trades', engine, if_exists='replace', index=False)"
   ],
   "id": "17ef51e4646f9905",
   "outputs": [
    {
     "data": {
      "text/plain": [
       "425"
      ]
     },
     "execution_count": 6,
     "metadata": {},
     "output_type": "execute_result"
    }
   ],
   "execution_count": 6
  },
  {
   "metadata": {},
   "cell_type": "code",
   "source": "",
   "id": "ea50ed2a2d07df58",
   "outputs": [],
   "execution_count": null
  }
 ],
 "metadata": {
  "kernelspec": {
   "display_name": "Python 3",
   "language": "python",
   "name": "python3"
  },
  "language_info": {
   "codemirror_mode": {
    "name": "ipython",
    "version": 2
   },
   "file_extension": ".py",
   "mimetype": "text/x-python",
   "name": "python",
   "nbconvert_exporter": "python",
   "pygments_lexer": "ipython2",
   "version": "2.7.6"
  }
 },
 "nbformat": 4,
 "nbformat_minor": 5
}
