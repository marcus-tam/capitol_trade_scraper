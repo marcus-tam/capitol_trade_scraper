{
 "cells": [
  {
   "metadata": {},
   "cell_type": "code",
   "source": [
    "### Please READ ###\n",
    "\n",
    "# This notebook is meant to be used to test if the reading pickle function works as well as inserting raw data into the database. This is not meant for production. Please execute `python backfill_db.py` as that is the intended pipeline."
   ],
   "id": "f69c265f5563ab60",
   "outputs": [],
   "execution_count": null
  },
  {
   "cell_type": "code",
   "id": "initial_id",
   "metadata": {
    "collapsed": true
   },
   "source": [
    "import pandas as pd\n",
    "import os\n",
    "import sys\n",
    "import psycopg2\n",
    "\n",
    "sys.path.append(os.path.abspath(os.path.join('.')))\n",
    "from db.utils import DatabaseConnector\n"
   ],
   "outputs": [],
   "execution_count": null
  },
  {
   "metadata": {},
   "cell_type": "code",
   "source": [
    "cleaned_trades_df = pd.read_csv(\"cleaned_trades.csv\")\n",
    "cleaned_trades_df.drop(axis=1, columns=['Unnamed: 0'], inplace=True)\n",
    "\n",
    "# Load PostgreSQL connection details from docker-compose.yml environment variables\n",
    "postgres_user = os.getenv('POSTGRES_USER', 'myuser')\n",
    "postgres_password = os.getenv('POSTGRES_PASSWORD', 'mypassword')\n",
    "postgres_host = os.getenv('POSTGRES_HOST', 'localhost')\n",
    "postgres_port = os.getenv('POSTGRES_PORT', '5432')\n",
    "postgres_db = os.getenv('POSTGRES_DB', 'mydb')\n"
   ],
   "id": "4e13a9e4c283472b",
   "outputs": [],
   "execution_count": null
  },
  {
   "metadata": {},
   "cell_type": "code",
   "source": [
    "cleaned_trades_df.columns = [\n",
    "    'politician', 'party', 'traded_company_name', 'traded_company_ticker',\n",
    "    'trade_filed_date', 'trade_owner', 'trade_type', 'trade_size',\n",
    "    'stock_price', 'published_datetime', 'traded_datetime', 'trade_id'\n",
    "]\n"
   ],
   "id": "fdc3f8840def8edc",
   "outputs": [],
   "execution_count": null
  },
  {
   "metadata": {},
   "cell_type": "code",
   "source": [
    "# Pre-process to ensure consistent format\n",
    "cleaned_trades_df['published_datetime'] = cleaned_trades_df['published_datetime'].apply(lambda x: x if len(x.strip().split()) == 3 else x.split(' ')[0] + ' ' + x.split(' ')[1] + ' ' + x.split(' ')[2])\n",
    "\n",
    "# Convert to datetime\n",
    "cleaned_trades_df['published_datetime'] = pd.to_datetime(cleaned_trades_df['published_datetime'], format='%d %b %Y', errors='coerce')\n",
    "\n",
    "# cleaned_trades_df['published_datetime'] = pd.to_datetime(cleaned_trades_df['published_datetime'], format='mixed', errors='coerce')\n",
    "cleaned_trades_df.head(10)"
   ],
   "id": "2f9f374ea682e8d2",
   "outputs": [],
   "execution_count": null
  },
  {
   "metadata": {},
   "cell_type": "code",
   "source": [
    "from sqlalchemy import create_engine\n",
    "\n",
    "engine = create_engine(f\"postgresql://{postgres_user}:{postgres_password}@{postgres_host}:{postgres_port}/{postgres_db}\")\n",
    "\n",
    "cleaned_trades_df.to_sql('capitol_trades', engine, if_exists='replace', index=False)"
   ],
   "id": "17ef51e4646f9905",
   "outputs": [],
   "execution_count": null
  },
  {
   "metadata": {},
   "cell_type": "code",
   "source": [
    "# cleaned_trades_df[[cleaned_trades_df['politician'] == 'Ro Khanna'] ]\n",
    "\n",
    "cleaned_trades_df[\n",
    "    (cleaned_trades_df['politician'] == 'Ro Khanna') &\n",
    "    (cleaned_trades_df['published_datetime'].isna())\n",
    "]"
   ],
   "id": "ea50ed2a2d07df58",
   "outputs": [],
   "execution_count": null
  },
  {
   "metadata": {},
   "cell_type": "code",
   "source": "cleaned_trades_df['published_datetime'].isnull().sum()",
   "id": "164a790b66dbc532",
   "outputs": [],
   "execution_count": null
  },
  {
   "metadata": {},
   "cell_type": "code",
   "source": "",
   "id": "6bfb7514bcb7013d",
   "outputs": [],
   "execution_count": null
  }
 ],
 "metadata": {
  "kernelspec": {
   "display_name": "Python 3",
   "language": "python",
   "name": "python3"
  },
  "language_info": {
   "codemirror_mode": {
    "name": "ipython",
    "version": 2
   },
   "file_extension": ".py",
   "mimetype": "text/x-python",
   "name": "python",
   "nbconvert_exporter": "python",
   "pygments_lexer": "ipython2",
   "version": "2.7.6"
  }
 },
 "nbformat": 4,
 "nbformat_minor": 5
}
