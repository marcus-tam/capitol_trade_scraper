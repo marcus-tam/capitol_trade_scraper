{
 "cells": [
  {
   "metadata": {
    "ExecuteTime": {
     "end_time": "2025-01-19T05:48:04.632037Z",
     "start_time": "2025-01-19T05:48:04.629783Z"
    }
   },
   "cell_type": "code",
   "source": [
    "### Please READ ###\n",
    "\n",
    "# This notebook is meant to be used to test if the reading pickle function works as well as inserting raw data into the database. This is not meant for production. Please execute `python backfill_db.py` as that is the intended pipeline."
   ],
   "id": "f69c265f5563ab60",
   "outputs": [],
   "execution_count": 35
  },
  {
   "cell_type": "code",
   "id": "initial_id",
   "metadata": {
    "collapsed": true
   },
   "source": [
    "import pandas as pd\n",
    "import os\n",
    "import psycopg2"
   ],
   "outputs": [],
   "execution_count": null
  },
  {
   "metadata": {},
   "cell_type": "code",
   "source": [
    "cleaned_trades_df = pd.read_pickle(\"cleaned_trades_df__01-18-25.pkl\")\n",
    "\n",
    "# Load PostgreSQL connection details from docker-compose.yml environment variables\n",
    "postgres_user = os.getenv('POSTGRES_USER', 'myuser')\n",
    "postgres_password = os.getenv('POSTGRES_PASSWORD', 'mypassword')\n",
    "postgres_host = os.getenv('POSTGRES_HOST', 'localhost')\n",
    "postgres_port = os.getenv('POSTGRES_PORT', '5432')\n",
    "postgres_db = os.getenv('POSTGRES_DB', 'mydb')\n"
   ],
   "id": "4e13a9e4c283472b",
   "outputs": [],
   "execution_count": null
  },
  {
   "metadata": {},
   "cell_type": "code",
   "source": [
    "from sqlalchemy import create_engine\n",
    "\n",
    "engine = create_engine(f\"postgresql://{postgres_user}:{postgres_password}@{postgres_host}:{postgres_port}/{postgres_db}\")\n",
    "\n",
    "cleaned_trades_df.to_sql('capitol_trades', engine, if_exists='replace', index=False)"
   ],
   "id": "17ef51e4646f9905",
   "outputs": [],
   "execution_count": null
  },
  {
   "metadata": {},
   "cell_type": "code",
   "source": "",
   "id": "ea50ed2a2d07df58",
   "outputs": [],
   "execution_count": null
  }
 ],
 "metadata": {
  "kernelspec": {
   "display_name": "Python 3",
   "language": "python",
   "name": "python3"
  },
  "language_info": {
   "codemirror_mode": {
    "name": "ipython",
    "version": 2
   },
   "file_extension": ".py",
   "mimetype": "text/x-python",
   "name": "python",
   "nbconvert_exporter": "python",
   "pygments_lexer": "ipython2",
   "version": "2.7.6"
  }
 },
 "nbformat": 4,
 "nbformat_minor": 5
}
